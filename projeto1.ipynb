{
 "cells": [
  {
   "cell_type": "code",
   "execution_count": 3,
   "id": "c1235dc2",
   "metadata": {},
   "outputs": [],
   "source": [
    "from pandas_datareader import data as pdr\n",
    "import datetime as dt\n",
    "import pandas as pd\n",
    "import yfinance as yf\n",
    "import requests\n",
    "from  calculate_selic import calculate_average_selic_annual\n",
    "from asset_download import stocks_dataframe\n",
    "\n",
    "from pypfopt import EfficientFrontier, EfficientSemivariance\n",
    "from pypfopt.cla import CLA\n",
    "from pypfopt import expected_returns\n",
    "from pypfopt import risk_models\n",
    "\n",
    "from matplotlib import pyplot as plt\n",
    "import seaborn as sns\n",
    "import numpy as np\n",
    "import scipy.cluster.hierarchy as shc\n",
    "from scipy import stats\n",
    "import plotly.express as px\n",
    "import pickle"
   ]
  },
  {
   "cell_type": "code",
   "execution_count": null,
   "id": "a862d25e",
   "metadata": {},
   "outputs": [],
   "source": [
    "start = dt.date(2015,1,1)\n",
    "end = dt.date.today()\n",
    "#end = 10\n",
    "type(end) == dt.date"
   ]
  },
  {
   "cell_type": "code",
   "execution_count": 4,
   "id": "d730e520",
   "metadata": {},
   "outputs": [
    {
     "data": {
      "text/plain": [
       "['ABEV3.SA',\n",
       " 'PETR3.SA',\n",
       " 'MGLU3.SA',\n",
       " 'ITUB3.SA',\n",
       " 'ALPA3.SA',\n",
       " 'VIVT3.SA',\n",
       " 'WEGE3.SA',\n",
       " 'VALE3.SA',\n",
       " 'BBAS3.SA']"
      ]
     },
     "execution_count": 4,
     "metadata": {},
     "output_type": "execute_result"
    }
   ],
   "source": [
    "stocks_cod = ['ABEV3','PETR3' ,'MGLU3','ITUB3','ALPA3', 'VIVT3', 'WEGE3', 'VALE3', 'BBAS3']\n",
    "stocks_cod = [stock +'.SA' for stock in stocks_cod]\n",
    "stocks_cod"
   ]
  },
  {
   "cell_type": "code",
   "execution_count": null,
   "id": "6934bffe",
   "metadata": {
    "scrolled": true
   },
   "outputs": [],
   "source": [
    " def stocks_dataframe(start, end = 0, *stocks_id:list):   \n",
    "    \n",
    "    if end == 0:\n",
    "        end = dt.date.today()\n",
    "        \n",
    "    \n",
    "    # convert string date in datetime\n",
    "    start = dt.datetime.strptime(start, '%d/%m/%Y')\n",
    "    \n",
    "    if type(end) != dt.date:\n",
    "        end  = dt.datetime.strptime(end, '%d/%m/%Y')\n",
    "    \n",
    "    stock_data = pd.DataFrame()\n",
    "    \n",
    "   \n",
    "        \n",
    "        # iterate stocks args  \n",
    "    for i in stocks_id:\n",
    "\n",
    "\n",
    "        for asset in i:\n",
    "\n",
    "            try:\n",
    "                # get close data stocks in yahoo finance API\n",
    "                close = yf.download(asset, start=start, end=end)['Adj Close']\n",
    "\n",
    "                # add adj close value\n",
    "                stock_data[asset] = close\n",
    "            except Exception as e:\n",
    "                print(f\"Error downloading data for {asset}: {str(e)}\")\n",
    "\n",
    "\n",
    "    stock_data.fillna(0, inplace = True)\n",
    "    return stock_data"
   ]
  },
  {
   "cell_type": "code",
   "execution_count": 6,
   "id": "0c5a7995",
   "metadata": {},
   "outputs": [
    {
     "name": "stdout",
     "output_type": "stream",
     "text": [
      "[*********************100%***********************]  1 of 1 completed\n",
      "[*********************100%***********************]  1 of 1 completed\n",
      "[*********************100%***********************]  1 of 1 completed\n",
      "[*********************100%***********************]  1 of 1 completed\n",
      "[*********************100%***********************]  1 of 1 completed\n",
      "[*********************100%***********************]  1 of 1 completed\n",
      "[*********************100%***********************]  1 of 1 completed\n",
      "[*********************100%***********************]  1 of 1 completed\n",
      "[*********************100%***********************]  1 of 1 completed\n"
     ]
    }
   ],
   "source": [
    "day = 365 * 3\n",
    "date___= dt.datetime.strftime(dt.date.today() - dt.timedelta(days = day),\"%d/%m/%Y\")\n",
    "data = stocks_dataframe(date___,0,stocks_cod)\n",
    "columns = data.columns\n",
    "index = data.index"
   ]
  },
  {
   "cell_type": "code",
   "execution_count": 7,
   "id": "32e892eb",
   "metadata": {},
   "outputs": [
    {
     "data": {
      "text/html": [
       "<div>\n",
       "<style scoped>\n",
       "    .dataframe tbody tr th:only-of-type {\n",
       "        vertical-align: middle;\n",
       "    }\n",
       "\n",
       "    .dataframe tbody tr th {\n",
       "        vertical-align: top;\n",
       "    }\n",
       "\n",
       "    .dataframe thead th {\n",
       "        text-align: right;\n",
       "    }\n",
       "</style>\n",
       "<table border=\"1\" class=\"dataframe\">\n",
       "  <thead>\n",
       "    <tr style=\"text-align: right;\">\n",
       "      <th></th>\n",
       "      <th>ABEV3.SA</th>\n",
       "      <th>PETR3.SA</th>\n",
       "      <th>MGLU3.SA</th>\n",
       "      <th>ITUB3.SA</th>\n",
       "      <th>ALPA3.SA</th>\n",
       "      <th>VIVT3.SA</th>\n",
       "      <th>WEGE3.SA</th>\n",
       "      <th>VALE3.SA</th>\n",
       "      <th>BBAS3.SA</th>\n",
       "    </tr>\n",
       "    <tr>\n",
       "      <th>Date</th>\n",
       "      <th></th>\n",
       "      <th></th>\n",
       "      <th></th>\n",
       "      <th></th>\n",
       "      <th></th>\n",
       "      <th></th>\n",
       "      <th></th>\n",
       "      <th></th>\n",
       "      <th></th>\n",
       "    </tr>\n",
       "  </thead>\n",
       "  <tbody>\n",
       "    <tr>\n",
       "      <th>2020-06-12</th>\n",
       "      <td>12.029677</td>\n",
       "      <td>9.475524</td>\n",
       "      <td>15.866846</td>\n",
       "      <td>21.867254</td>\n",
       "      <td>22.633282</td>\n",
       "      <td>40.505302</td>\n",
       "      <td>21.260088</td>\n",
       "      <td>38.901443</td>\n",
       "      <td>26.976826</td>\n",
       "    </tr>\n",
       "    <tr>\n",
       "      <th>2020-06-15</th>\n",
       "      <td>11.905570</td>\n",
       "      <td>9.511213</td>\n",
       "      <td>16.338261</td>\n",
       "      <td>21.268509</td>\n",
       "      <td>22.613516</td>\n",
       "      <td>39.248383</td>\n",
       "      <td>21.269699</td>\n",
       "      <td>39.251125</td>\n",
       "      <td>26.750322</td>\n",
       "    </tr>\n",
       "    <tr>\n",
       "      <th>2020-06-16</th>\n",
       "      <td>11.754867</td>\n",
       "      <td>9.903796</td>\n",
       "      <td>16.375477</td>\n",
       "      <td>21.715324</td>\n",
       "      <td>22.633282</td>\n",
       "      <td>39.945766</td>\n",
       "      <td>21.505117</td>\n",
       "      <td>40.351147</td>\n",
       "      <td>27.098158</td>\n",
       "    </tr>\n",
       "    <tr>\n",
       "      <th>2020-06-17</th>\n",
       "      <td>12.206976</td>\n",
       "      <td>9.926103</td>\n",
       "      <td>16.670731</td>\n",
       "      <td>21.911936</td>\n",
       "      <td>24.036743</td>\n",
       "      <td>40.164719</td>\n",
       "      <td>22.177750</td>\n",
       "      <td>40.941223</td>\n",
       "      <td>27.907057</td>\n",
       "    </tr>\n",
       "    <tr>\n",
       "      <th>2020-06-18</th>\n",
       "      <td>12.127192</td>\n",
       "      <td>10.082243</td>\n",
       "      <td>17.293497</td>\n",
       "      <td>22.474922</td>\n",
       "      <td>24.066395</td>\n",
       "      <td>40.943192</td>\n",
       "      <td>22.163342</td>\n",
       "      <td>40.919369</td>\n",
       "      <td>27.826164</td>\n",
       "    </tr>\n",
       "  </tbody>\n",
       "</table>\n",
       "</div>"
      ],
      "text/plain": [
       "             ABEV3.SA   PETR3.SA   MGLU3.SA   ITUB3.SA   ALPA3.SA   VIVT3.SA  \\\n",
       "Date                                                                           \n",
       "2020-06-12  12.029677   9.475524  15.866846  21.867254  22.633282  40.505302   \n",
       "2020-06-15  11.905570   9.511213  16.338261  21.268509  22.613516  39.248383   \n",
       "2020-06-16  11.754867   9.903796  16.375477  21.715324  22.633282  39.945766   \n",
       "2020-06-17  12.206976   9.926103  16.670731  21.911936  24.036743  40.164719   \n",
       "2020-06-18  12.127192  10.082243  17.293497  22.474922  24.066395  40.943192   \n",
       "\n",
       "             WEGE3.SA   VALE3.SA   BBAS3.SA  \n",
       "Date                                         \n",
       "2020-06-12  21.260088  38.901443  26.976826  \n",
       "2020-06-15  21.269699  39.251125  26.750322  \n",
       "2020-06-16  21.505117  40.351147  27.098158  \n",
       "2020-06-17  22.177750  40.941223  27.907057  \n",
       "2020-06-18  22.163342  40.919369  27.826164  "
      ]
     },
     "execution_count": 7,
     "metadata": {},
     "output_type": "execute_result"
    }
   ],
   "source": [
    "data.head()"
   ]
  },
  {
   "cell_type": "code",
   "execution_count": 8,
   "id": "9351c5f3",
   "metadata": {},
   "outputs": [
    {
     "data": {
      "text/html": [
       "<div>\n",
       "<style scoped>\n",
       "    .dataframe tbody tr th:only-of-type {\n",
       "        vertical-align: middle;\n",
       "    }\n",
       "\n",
       "    .dataframe tbody tr th {\n",
       "        vertical-align: top;\n",
       "    }\n",
       "\n",
       "    .dataframe thead th {\n",
       "        text-align: right;\n",
       "    }\n",
       "</style>\n",
       "<table border=\"1\" class=\"dataframe\">\n",
       "  <thead>\n",
       "    <tr style=\"text-align: right;\">\n",
       "      <th></th>\n",
       "      <th>ABEV3.SA</th>\n",
       "      <th>PETR3.SA</th>\n",
       "      <th>MGLU3.SA</th>\n",
       "      <th>ITUB3.SA</th>\n",
       "      <th>ALPA3.SA</th>\n",
       "      <th>VIVT3.SA</th>\n",
       "      <th>WEGE3.SA</th>\n",
       "      <th>VALE3.SA</th>\n",
       "      <th>BBAS3.SA</th>\n",
       "    </tr>\n",
       "  </thead>\n",
       "  <tbody>\n",
       "    <tr>\n",
       "      <th>ABEV3.SA</th>\n",
       "      <td>0.081155</td>\n",
       "      <td>0.036921</td>\n",
       "      <td>0.039122</td>\n",
       "      <td>0.036843</td>\n",
       "      <td>0.023409</td>\n",
       "      <td>0.021297</td>\n",
       "      <td>0.030315</td>\n",
       "      <td>0.009375</td>\n",
       "      <td>0.038423</td>\n",
       "    </tr>\n",
       "    <tr>\n",
       "      <th>PETR3.SA</th>\n",
       "      <td>0.036921</td>\n",
       "      <td>0.170120</td>\n",
       "      <td>0.039558</td>\n",
       "      <td>0.053112</td>\n",
       "      <td>0.018707</td>\n",
       "      <td>0.014127</td>\n",
       "      <td>0.024413</td>\n",
       "      <td>0.046560</td>\n",
       "      <td>0.078227</td>\n",
       "    </tr>\n",
       "    <tr>\n",
       "      <th>MGLU3.SA</th>\n",
       "      <td>0.039122</td>\n",
       "      <td>0.039558</td>\n",
       "      <td>0.458559</td>\n",
       "      <td>0.042356</td>\n",
       "      <td>0.098425</td>\n",
       "      <td>0.027025</td>\n",
       "      <td>0.070775</td>\n",
       "      <td>0.019307</td>\n",
       "      <td>0.052488</td>\n",
       "    </tr>\n",
       "    <tr>\n",
       "      <th>ITUB3.SA</th>\n",
       "      <td>0.036843</td>\n",
       "      <td>0.053112</td>\n",
       "      <td>0.042356</td>\n",
       "      <td>0.086244</td>\n",
       "      <td>0.024156</td>\n",
       "      <td>0.020057</td>\n",
       "      <td>0.027321</td>\n",
       "      <td>0.022853</td>\n",
       "      <td>0.059503</td>\n",
       "    </tr>\n",
       "    <tr>\n",
       "      <th>ALPA3.SA</th>\n",
       "      <td>0.023409</td>\n",
       "      <td>0.018707</td>\n",
       "      <td>0.098425</td>\n",
       "      <td>0.024156</td>\n",
       "      <td>0.205550</td>\n",
       "      <td>0.016384</td>\n",
       "      <td>0.038619</td>\n",
       "      <td>0.005785</td>\n",
       "      <td>0.023554</td>\n",
       "    </tr>\n",
       "    <tr>\n",
       "      <th>VIVT3.SA</th>\n",
       "      <td>0.021297</td>\n",
       "      <td>0.014127</td>\n",
       "      <td>0.027025</td>\n",
       "      <td>0.020057</td>\n",
       "      <td>0.016384</td>\n",
       "      <td>0.051011</td>\n",
       "      <td>0.017685</td>\n",
       "      <td>0.001716</td>\n",
       "      <td>0.022624</td>\n",
       "    </tr>\n",
       "    <tr>\n",
       "      <th>WEGE3.SA</th>\n",
       "      <td>0.030315</td>\n",
       "      <td>0.024413</td>\n",
       "      <td>0.070775</td>\n",
       "      <td>0.027321</td>\n",
       "      <td>0.038619</td>\n",
       "      <td>0.017685</td>\n",
       "      <td>0.124079</td>\n",
       "      <td>0.019784</td>\n",
       "      <td>0.026091</td>\n",
       "    </tr>\n",
       "    <tr>\n",
       "      <th>VALE3.SA</th>\n",
       "      <td>0.009375</td>\n",
       "      <td>0.046560</td>\n",
       "      <td>0.019307</td>\n",
       "      <td>0.022853</td>\n",
       "      <td>0.005785</td>\n",
       "      <td>0.001716</td>\n",
       "      <td>0.019784</td>\n",
       "      <td>0.121326</td>\n",
       "      <td>0.023208</td>\n",
       "    </tr>\n",
       "    <tr>\n",
       "      <th>BBAS3.SA</th>\n",
       "      <td>0.038423</td>\n",
       "      <td>0.078227</td>\n",
       "      <td>0.052488</td>\n",
       "      <td>0.059503</td>\n",
       "      <td>0.023554</td>\n",
       "      <td>0.022624</td>\n",
       "      <td>0.026091</td>\n",
       "      <td>0.023208</td>\n",
       "      <td>0.102623</td>\n",
       "    </tr>\n",
       "  </tbody>\n",
       "</table>\n",
       "</div>"
      ],
      "text/plain": [
       "          ABEV3.SA  PETR3.SA  MGLU3.SA  ITUB3.SA  ALPA3.SA  VIVT3.SA  \\\n",
       "ABEV3.SA  0.081155  0.036921  0.039122  0.036843  0.023409  0.021297   \n",
       "PETR3.SA  0.036921  0.170120  0.039558  0.053112  0.018707  0.014127   \n",
       "MGLU3.SA  0.039122  0.039558  0.458559  0.042356  0.098425  0.027025   \n",
       "ITUB3.SA  0.036843  0.053112  0.042356  0.086244  0.024156  0.020057   \n",
       "ALPA3.SA  0.023409  0.018707  0.098425  0.024156  0.205550  0.016384   \n",
       "VIVT3.SA  0.021297  0.014127  0.027025  0.020057  0.016384  0.051011   \n",
       "WEGE3.SA  0.030315  0.024413  0.070775  0.027321  0.038619  0.017685   \n",
       "VALE3.SA  0.009375  0.046560  0.019307  0.022853  0.005785  0.001716   \n",
       "BBAS3.SA  0.038423  0.078227  0.052488  0.059503  0.023554  0.022624   \n",
       "\n",
       "          WEGE3.SA  VALE3.SA  BBAS3.SA  \n",
       "ABEV3.SA  0.030315  0.009375  0.038423  \n",
       "PETR3.SA  0.024413  0.046560  0.078227  \n",
       "MGLU3.SA  0.070775  0.019307  0.052488  \n",
       "ITUB3.SA  0.027321  0.022853  0.059503  \n",
       "ALPA3.SA  0.038619  0.005785  0.023554  \n",
       "VIVT3.SA  0.017685  0.001716  0.022624  \n",
       "WEGE3.SA  0.124079  0.019784  0.026091  \n",
       "VALE3.SA  0.019784  0.121326  0.023208  \n",
       "BBAS3.SA  0.026091  0.023208  0.102623  "
      ]
     },
     "execution_count": 8,
     "metadata": {},
     "output_type": "execute_result"
    }
   ],
   "source": [
    "def replaceZeroes(data):\n",
    "    min_nonzero = np.min(data[np.nonzero(data)])\n",
    "    data[data == 0] = min_nonzero\n",
    "    return data\n",
    "\n",
    "data = pd.DataFrame(columns = columns, data = replaceZeroes(data.values), index = index)\n",
    "returns = data.pct_change().iloc[1:].apply(lambda x: np.log1p(x)).dropna()\n",
    "\n",
    "# annual returns\n",
    "mean = returns.mean() *252\n",
    "\n",
    "# deviation\n",
    "sigma =  returns.std(axis = 0) * np.sqrt(252)\n",
    "\n",
    "cov_matrix = returns.cov() * 252\n",
    "cov_matrix"
   ]
  },
  {
   "cell_type": "code",
   "execution_count": 9,
   "id": "2da3a6f0",
   "metadata": {},
   "outputs": [
    {
     "data": {
      "text/html": [
       "<div>\n",
       "<style scoped>\n",
       "    .dataframe tbody tr th:only-of-type {\n",
       "        vertical-align: middle;\n",
       "    }\n",
       "\n",
       "    .dataframe tbody tr th {\n",
       "        vertical-align: top;\n",
       "    }\n",
       "\n",
       "    .dataframe thead th {\n",
       "        text-align: right;\n",
       "    }\n",
       "</style>\n",
       "<table border=\"1\" class=\"dataframe\">\n",
       "  <thead>\n",
       "    <tr style=\"text-align: right;\">\n",
       "      <th></th>\n",
       "      <th>ABEV3.SA</th>\n",
       "      <th>PETR3.SA</th>\n",
       "      <th>MGLU3.SA</th>\n",
       "      <th>ITUB3.SA</th>\n",
       "      <th>ALPA3.SA</th>\n",
       "      <th>VIVT3.SA</th>\n",
       "      <th>WEGE3.SA</th>\n",
       "      <th>VALE3.SA</th>\n",
       "      <th>BBAS3.SA</th>\n",
       "    </tr>\n",
       "    <tr>\n",
       "      <th>Date</th>\n",
       "      <th></th>\n",
       "      <th></th>\n",
       "      <th></th>\n",
       "      <th></th>\n",
       "      <th></th>\n",
       "      <th></th>\n",
       "      <th></th>\n",
       "      <th></th>\n",
       "      <th></th>\n",
       "    </tr>\n",
       "  </thead>\n",
       "  <tbody>\n",
       "    <tr>\n",
       "      <th>2020-06-15</th>\n",
       "      <td>-0.010370</td>\n",
       "      <td>0.003759</td>\n",
       "      <td>0.029278</td>\n",
       "      <td>-0.027763</td>\n",
       "      <td>-0.000874</td>\n",
       "      <td>-0.031523</td>\n",
       "      <td>0.000452</td>\n",
       "      <td>0.008949</td>\n",
       "      <td>-0.008432</td>\n",
       "    </tr>\n",
       "    <tr>\n",
       "      <th>2020-06-16</th>\n",
       "      <td>-0.012739</td>\n",
       "      <td>0.040447</td>\n",
       "      <td>0.002275</td>\n",
       "      <td>0.020791</td>\n",
       "      <td>0.000874</td>\n",
       "      <td>0.017612</td>\n",
       "      <td>0.011007</td>\n",
       "      <td>0.027640</td>\n",
       "      <td>0.012919</td>\n",
       "    </tr>\n",
       "    <tr>\n",
       "      <th>2020-06-17</th>\n",
       "      <td>0.037740</td>\n",
       "      <td>0.002250</td>\n",
       "      <td>0.017870</td>\n",
       "      <td>0.009013</td>\n",
       "      <td>0.060162</td>\n",
       "      <td>0.005466</td>\n",
       "      <td>0.030799</td>\n",
       "      <td>0.014518</td>\n",
       "      <td>0.029414</td>\n",
       "    </tr>\n",
       "    <tr>\n",
       "      <th>2020-06-18</th>\n",
       "      <td>-0.006557</td>\n",
       "      <td>0.015608</td>\n",
       "      <td>0.036676</td>\n",
       "      <td>0.025369</td>\n",
       "      <td>0.001233</td>\n",
       "      <td>0.019197</td>\n",
       "      <td>-0.000650</td>\n",
       "      <td>-0.000534</td>\n",
       "      <td>-0.002903</td>\n",
       "    </tr>\n",
       "    <tr>\n",
       "      <th>2020-06-19</th>\n",
       "      <td>0.011628</td>\n",
       "      <td>-0.014260</td>\n",
       "      <td>0.024098</td>\n",
       "      <td>0.048127</td>\n",
       "      <td>0.018312</td>\n",
       "      <td>0.009070</td>\n",
       "      <td>0.001732</td>\n",
       "      <td>-0.017964</td>\n",
       "      <td>-0.013462</td>\n",
       "    </tr>\n",
       "  </tbody>\n",
       "</table>\n",
       "</div>"
      ],
      "text/plain": [
       "            ABEV3.SA  PETR3.SA  MGLU3.SA  ITUB3.SA  ALPA3.SA  VIVT3.SA  \\\n",
       "Date                                                                     \n",
       "2020-06-15 -0.010370  0.003759  0.029278 -0.027763 -0.000874 -0.031523   \n",
       "2020-06-16 -0.012739  0.040447  0.002275  0.020791  0.000874  0.017612   \n",
       "2020-06-17  0.037740  0.002250  0.017870  0.009013  0.060162  0.005466   \n",
       "2020-06-18 -0.006557  0.015608  0.036676  0.025369  0.001233  0.019197   \n",
       "2020-06-19  0.011628 -0.014260  0.024098  0.048127  0.018312  0.009070   \n",
       "\n",
       "            WEGE3.SA  VALE3.SA  BBAS3.SA  \n",
       "Date                                      \n",
       "2020-06-15  0.000452  0.008949 -0.008432  \n",
       "2020-06-16  0.011007  0.027640  0.012919  \n",
       "2020-06-17  0.030799  0.014518  0.029414  \n",
       "2020-06-18 -0.000650 -0.000534 -0.002903  \n",
       "2020-06-19  0.001732 -0.017964 -0.013462  "
      ]
     },
     "execution_count": 9,
     "metadata": {},
     "output_type": "execute_result"
    }
   ],
   "source": [
    "returns.head()"
   ]
  },
  {
   "cell_type": "code",
   "execution_count": 42,
   "id": "47f649c0",
   "metadata": {},
   "outputs": [],
   "source": [
    "def return_portfolio(w, ret):\n",
    "    # return capm\n",
    "    return  (w* ret).sum()\n",
    "\n",
    "    #return  expected_returns.capm_return(data)\n",
    "\n",
    "def cov_portfolio(w, cov_matrix):\n",
    "    # risk calculation    \n",
    "    return np.sqrt(np.dot(w.T, (np.dot(cov_matrix, w))))\n",
    "    #return risk_models.CovarianceShrinkage(data).ledoit_wolf()\n"
   ]
  },
  {
   "cell_type": "code",
   "execution_count": null,
   "id": "3724d8a2",
   "metadata": {},
   "outputs": [],
   "source": [
    "\"\"\"\n",
    "def calculate_average_selic_annual(year1, year2 = 0):\n",
    "    \n",
    "    import datetime as dt\n",
    "    import pandas as pd\n",
    "    \n",
    "    if year2 == 0:\n",
    "        year2 = dt.date.today().year\n",
    "        \n",
    "    if year1 > year2:\n",
    "        \n",
    "        raise ValueError(\"Primeiro ano deve ser menor que o segundo ano.\")\n",
    "        \n",
    "    # api extract selic\n",
    "    serie = 432\n",
    "    url = f'https://api.bcb.gov.br/dados/serie/bcdata.sgs.{serie}/dados?formato=json'\n",
    "    data = pd.read_json(url)\n",
    "    \n",
    "    # convert to datetime\n",
    "    data['data'] = pd.to_datetime(data['data'], dayfirst = True)\n",
    "    \n",
    "    # year column, grouping by year and aggregate average\n",
    "    data['ano'] = data['data'].dt.year\n",
    "    selic_annual = data.groupby('ano')['valor'].mean()\n",
    "    \n",
    "    # average selic rate of the years\n",
    "    rate_w_risk = selic_annual[(selic_annual.index > year1) & (selic_annual.index < year2)].mean()\n",
    "    \n",
    "    return round(rate_w_risk/100,4)"
   ]
  },
  {
   "cell_type": "code",
   "execution_count": 43,
   "id": "e15de0c3",
   "metadata": {},
   "outputs": [
    {
     "data": {
      "text/plain": [
       "0.0854"
      ]
     },
     "execution_count": 43,
     "metadata": {},
     "output_type": "execute_result"
    }
   ],
   "source": [
    "tax_w_risk = calculate_average_selic_annual(2020)\n",
    "tax_w_risk"
   ]
  },
  {
   "cell_type": "code",
   "execution_count": 45,
   "id": "ce3092a9",
   "metadata": {},
   "outputs": [
    {
     "data": {
      "text/html": [
       "<div>\n",
       "<style scoped>\n",
       "    .dataframe tbody tr th:only-of-type {\n",
       "        vertical-align: middle;\n",
       "    }\n",
       "\n",
       "    .dataframe tbody tr th {\n",
       "        vertical-align: top;\n",
       "    }\n",
       "\n",
       "    .dataframe thead tr th {\n",
       "        text-align: left;\n",
       "    }\n",
       "</style>\n",
       "<table border=\"1\" class=\"dataframe\">\n",
       "  <thead>\n",
       "    <tr>\n",
       "      <th></th>\n",
       "      <th>ABEV3.SA</th>\n",
       "      <th>PETR3.SA</th>\n",
       "      <th>MGLU3.SA</th>\n",
       "      <th>ITUB3.SA</th>\n",
       "      <th>ALPA3.SA</th>\n",
       "      <th>VIVT3.SA</th>\n",
       "      <th>WEGE3.SA</th>\n",
       "      <th>VALE3.SA</th>\n",
       "      <th>BBAS3.SA</th>\n",
       "      <th>Retorno P %</th>\n",
       "      <th>Risco %</th>\n",
       "      <th>Indice Sharpe</th>\n",
       "    </tr>\n",
       "  </thead>\n",
       "  <tbody>\n",
       "  </tbody>\n",
       "</table>\n",
       "</div>"
      ],
      "text/plain": [
       "Empty DataFrame\n",
       "Columns: [(ABEV3.SA,), (PETR3.SA,), (MGLU3.SA,), (ITUB3.SA,), (ALPA3.SA,), (VIVT3.SA,), (WEGE3.SA,), (VALE3.SA,), (BBAS3.SA,), (Retorno P %,), (Risco %,), (Indice Sharpe,)]\n",
       "Index: []"
      ]
     },
     "execution_count": 45,
     "metadata": {},
     "output_type": "execute_result"
    }
   ],
   "source": [
    "columns = [x for x in data.columns]\n",
    "lista = ['Retorno P %', 'Risco %', 'Indice Sharpe']\n",
    "columns.extend(lista)\n",
    "\n",
    "simulacao = pd.DataFrame(columns=[columns])\n",
    "simulacao"
   ]
  },
  {
   "cell_type": "code",
   "execution_count": 46,
   "id": "7b5550d1",
   "metadata": {},
   "outputs": [
    {
     "data": {
      "image/png": "[encoded data removed]",
      "text/plain": [
       "<Figure size 1500x1000 with 2 Axes>"
      ]
     },
     "metadata": {},
     "output_type": "display_data"
    }
   ],
   "source": [
    "N = 100\n",
    "\n",
    "for x in range (N):\n",
    "    \n",
    "    np.random.seed(x)\n",
    "    \n",
    "    # pesos aleatorios e normalizando\n",
    "    w = np.random.random(9)\n",
    "    w = np.array(w/w.sum())\n",
    "    \n",
    "    sigma = cov_portfolio(w, cov_matrix)*100\n",
    "    \n",
    "    ret = return_portfolio(w, mean).sum() *100\n",
    "    sharp_r = (ret - tax_w_risk) / sigma\n",
    "\n",
    "    simulacao.loc[x] = [round(w[0], 3), round(w[1],3), round(w[2],3),round(w[3],3),round(w[4],3),\n",
    "                        round(w[5],3), round(w[6],3), round(w[7],3), round(w[8],3),\n",
    "                        round(ret,2), round(sigma,2), round(sharp_r, 4)]\n",
    "\n",
    "    \n",
    "# Gráfico\n",
    "plt.figure(figsize= (15,10))\n",
    "plt.scatter(simulacao['Risco %'], simulacao['Retorno P %'], c = simulacao['Indice Sharpe'])\n",
    "plt.colorbar(label = 'Sharpe ratio')\n",
    "#plt.legend(bbox_to_anchor=(1.3, 0.6)) \n",
    "plt.tight_layout()   \n"
   ]
  },
  {
   "cell_type": "code",
   "execution_count": 47,
   "id": "9dc93429",
   "metadata": {},
   "outputs": [
    {
     "data": {
      "text/plain": [
       "0.83"
      ]
     },
     "execution_count": 47,
     "metadata": {},
     "output_type": "execute_result"
    }
   ],
   "source": [
    "maxi = simulacao['Indice Sharpe'].max()[0]\n",
    "maxi"
   ]
  },
  {
   "cell_type": "code",
   "execution_count": 49,
   "id": "f62e73b5",
   "metadata": {},
   "outputs": [
    {
     "name": "stdout",
     "output_type": "stream",
     "text": [
      "Expected annual return: 10.8%\n",
      "Annual volatility: 21.4%\n",
      "Sharpe Ratio: 0.41\n"
     ]
    },
    {
     "data": {
      "text/plain": [
       "(0.10845752290193847, 0.21357813838935316, 0.4141693694355567)"
      ]
     },
     "execution_count": 49,
     "metadata": {},
     "output_type": "execute_result"
    }
   ],
   "source": [
    "expected_r = expected_returns.capm_return(data)\n",
    "estimative = risk_models.CovarianceShrinkage(data).ledoit_wolf()\n",
    "ef1 = EfficientFrontier(expected_r, estimative)\n",
    "ef1.max_sharpe()\n",
    "ef1.portfolio_performance(verbose = True)"
   ]
  },
  {
   "cell_type": "code",
   "execution_count": 57,
   "id": "090c766c",
   "metadata": {},
   "outputs": [
    {
     "data": {
      "image/png": "[encoded data removed]",
      "text/plain": [
       "<PIL.JpegImagePlugin.JpegImageFile image mode=RGB size=282x179>"
      ]
     },
     "execution_count": 57,
     "metadata": {},
     "output_type": "execute_result"
    }
   ],
   "source": [
    "from PIL import Image\n",
    "\n",
    "image = Image.open('image/fronteira_eficiente.jfif')\n",
    "image"
   ]
  },
  {
   "cell_type": "code",
   "execution_count": 54,
   "id": "7f2bf958",
   "metadata": {},
   "outputs": [
    {
     "name": "stdout",
     "output_type": "stream",
     "text": [
      "Expected annual return: 7.9%\n",
      "Annual volatility: 17.3%\n",
      "Sharpe Ratio: -0.03\n"
     ]
    },
    {
     "data": {
      "text/plain": [
       "(0.07939195760220778, 0.17301617496605118, -0.034725322062929116)"
      ]
     },
     "execution_count": 54,
     "metadata": {},
     "output_type": "execute_result"
    }
   ],
   "source": [
    "ef2 = CLA(expected_r, estimative)\n",
    "ef2.min_volatility()\n",
    "ef2.portfolio_performance(verbose = True,risk_free_rate=tax_w_risk)"
   ]
  },
  {
   "cell_type": "code",
   "execution_count": 51,
   "id": "c7e0d313",
   "metadata": {},
   "outputs": [
    {
     "name": "stdout",
     "output_type": "stream",
     "text": [
      "Expected annual return: 13.1%\n",
      "Annual volatility: 28.0%\n",
      "Sharpe Ratio: 0.16\n"
     ]
    },
    {
     "data": {
      "text/plain": [
       "(0.13075279727908307, 0.2797185139956947, 0.16213727375865122)"
      ]
     },
     "execution_count": 51,
     "metadata": {},
     "output_type": "execute_result"
    }
   ],
   "source": [
    "ef3 = EfficientFrontier(expected_r, estimative)\n",
    "ef3.max_quadratic_utility()\n",
    "ef3.portfolio_performance(verbose = True, risk_free_rate=tax_w_risk)"
   ]
  },
  {
   "cell_type": "code",
   "execution_count": null,
   "id": "d6aba58c",
   "metadata": {},
   "outputs": [],
   "source": [
    "w_sharpe = dict(ef1.clean_weights())\n",
    "w_risk = dict(ef2.clean_weights())\n",
    "w_return = dict(ef3.clean_weights())\n",
    "\n",
    "values_sharpe = np.dot(list(w_sharpe.values()),1000)\n",
    "values_risk = np.dot(list(w_risk.values()),1000)\n",
    "values_return = np.dot(list(w_return.values()),1000)\n",
    "#################################################"
   ]
  },
  {
   "cell_type": "code",
   "execution_count": null,
   "id": "e72533f0",
   "metadata": {},
   "outputs": [],
   "source": [
    "# oTIMIZAÇÃO PORTFOLIO HRP\n",
    "plt.figure(figsize=(10, 7))  \n",
    "plt.title(\"Dendrogram\")\n",
    "\n",
    "clusters = shc.linkage(returns.T, method='ward', metric='euclidean')\n",
    "\n",
    "dendogram = shc.dendrogram(clusters, labels=returns.columns)"
   ]
  },
  {
   "cell_type": "code",
   "execution_count": null,
   "id": "fdddd988",
   "metadata": {},
   "outputs": [],
   "source": [
    "def matrix_seriation(returns: pd.DataFrame):\n",
    "\n",
    "    matrix_cov = returns.cov()\n",
    "\n",
    "    dendogram = sns.clustermap(matrix_cov, method='ward', metric='euclidean')\n",
    "    \n",
    "    seriation = dendogram.dendrogram_col.reordered_ind\n",
    "    columns_seriation = returns.columns[seriation]\n",
    "\n",
    "    return (matrix_cov, columns_seriation)"
   ]
  },
  {
   "cell_type": "code",
   "execution_count": null,
   "id": "8c9163fd",
   "metadata": {},
   "outputs": [],
   "source": [
    "matrix_cov, columns_seriation = matrix_seriation(returns)"
   ]
  },
  {
   "cell_type": "code",
   "execution_count": null,
   "id": "c87a4600",
   "metadata": {},
   "outputs": [],
   "source": [
    "def calcula_pesos_hrp(matriz_cov, colunas_seriation):\n",
    "    # Inicialização de pesos\n",
    "    pesos = pd.Series(1, index=colunas_seriation)\n",
    "    paridades = [colunas_seriation]\n",
    "\n",
    "    while len(paridades) > 0:\n",
    "        # Instanciação de clusters\n",
    "        paridades = [cluster[inicio:fim] \n",
    "                     for cluster in paridades\n",
    "                      for inicio, fim in ((0, len(cluster) // 2),(len(cluster) // 2, len(cluster)))\n",
    "                        if len(cluster) > 1]\n",
    "\n",
    "        # Iteração entre paridades\n",
    "        for subcluster in range(0, len(paridades), 2):\n",
    "            \n",
    "            cluster_esquerdo = paridades[subcluster]\n",
    "            cluster_direito = paridades[subcluster + 1]\n",
    "            \n",
    "            matriz_cov_esquerda = matriz_cov[cluster_esquerdo].loc[cluster_esquerdo]\n",
    "            inversa_diagonal = 1 / np.diag(matriz_cov_esquerda.values)\n",
    "            pesos_cluster_esquerdo = inversa_diagonal / np.sum(inversa_diagonal)\n",
    "            vol_cluster_esquerdo = np.dot(pesos_cluster_esquerdo, np.dot(matriz_cov_esquerda, pesos_cluster_esquerdo))\n",
    "\n",
    "            matriz_cov_direita = matriz_cov[cluster_direito].loc[cluster_direito]\n",
    "            inversa_diagonal = 1 / np.diag(matriz_cov_direita.values)\n",
    "            pesos_cluster_direito = inversa_diagonal  / np.sum(inversa_diagonal)\n",
    "            vol_cluster_direito = np.dot(pesos_cluster_direito, np.dot(matriz_cov_direita, pesos_cluster_direito))\n",
    "\n",
    "            fator_alocacao = 1 - vol_cluster_esquerdo / (vol_cluster_esquerdo + vol_cluster_direito)\n",
    "\n",
    "            pesos[cluster_esquerdo] *= fator_alocacao\n",
    "            pesos[cluster_direito] *= 1 - fator_alocacao\n",
    "            \n",
    "    return pesos"
   ]
  },
  {
   "cell_type": "code",
   "execution_count": null,
   "id": "8a2c01f5",
   "metadata": {},
   "outputs": [],
   "source": [
    "w_hrp = calcula_pesos_hrp(matrix_cov, columns_seriation)\n",
    "w_hrp = list(w_hrp)\n",
    "w_hrp"
   ]
  },
  {
   "cell_type": "code",
   "execution_count": null,
   "id": "06818f3d",
   "metadata": {},
   "outputs": [],
   "source": [
    "w_sharpe\n",
    "data.columns\n",
    "columns_seriation\n",
    "dict_columns = {}\n",
    "\n",
    "for columns, value in zip(data.columns, w_hrp):\n",
    "    \n",
    "    dict_columns[columns] = w_hrp[list(columns_seriation).index(columns)]\n",
    "    \n"
   ]
  },
  {
   "cell_type": "code",
   "execution_count": null,
   "id": "069ccc79",
   "metadata": {},
   "outputs": [],
   "source": [
    "(ret - tax_w_risk) / sigma"
   ]
  },
  {
   "cell_type": "code",
   "execution_count": null,
   "id": "d9535298",
   "metadata": {},
   "outputs": [],
   "source": [
    "weights_ = np.array(list(dict_columns.values()))\n",
    "sigma_ = cov_portfolio(weights_, cov_matrix)*100\n",
    " \n",
    "ret_ = return_portfolio(weights_, mean).sum() *100\n",
    "sharp_r_ = (ret_ - tax_w_risk) / sigma_\n",
    "sharp_r_"
   ]
  },
  {
   "cell_type": "code",
   "execution_count": null,
   "id": "ea1103b2",
   "metadata": {},
   "outputs": [],
   "source": [
    "#values_hrp = np.dot(np.array(w_hrp) ,1000)\n",
    "values_hrp = np.dot(weights_,1000)\n",
    "returns['sharpe otm'] = 0\n",
    "returns['cla otm'] = 0\n",
    "returns['max_sqrt otm'] = 0\n",
    "returns['hrp otm'] = 0\n",
    "\n",
    "\n",
    "for i in range(len(data)-1):\n",
    "    sum_all_sharpe = 0\n",
    "    sum_all_risk = 0\n",
    "    sum_all_return = 0\n",
    "    sum_all_hrp = 0\n",
    "    \n",
    "    for x in range(len(values_sharpe)):\n",
    "        \n",
    "        # sum returns sharpe weights\n",
    "        sharpe = (1+(returns.iloc[i,x]))* values_sharpe[x]\n",
    "        sum_all_sharpe = sum_all_sharpe + sharpe\n",
    "        values_sharpe[x] = sharpe\n",
    "        \n",
    "        # sum returns risk weights\n",
    "        risk = (1+(returns.iloc[i,x]))* values_risk[x]\n",
    "        sum_all_risk = sum_all_risk + risk\n",
    "        values_risk[x] = risk\n",
    "        \n",
    "        # sum returns return weights\n",
    "        return_ = (1+(returns.iloc[i,x]))* values_return[x]\n",
    "        sum_all_return = sum_all_return + return_\n",
    "        values_return[x] = return_\n",
    "        \n",
    "         # sum returns hrp weights\n",
    "        hrp = (1+(returns.iloc[i,x]))* values_hrp[x]\n",
    "        sum_all_hrp = sum_all_hrp + hrp\n",
    "        values_hrp[x] = hrp\n",
    "        \n",
    "    returns['sharpe otm'].iloc[i] = sum_all_sharpe\n",
    "    returns['cla otm'].iloc[i] = sum_all_risk\n",
    "    returns['max_sqrt otm'].iloc[i] = sum_all_return\n",
    "    returns['hrp otm'].iloc[i] = sum_all_hrp"
   ]
  },
  {
   "cell_type": "code",
   "execution_count": null,
   "id": "076b7ddb",
   "metadata": {
    "scrolled": true
   },
   "outputs": [],
   "source": [
    "returns.head()"
   ]
  },
  {
   "cell_type": "code",
   "execution_count": null,
   "id": "47c6c3d4",
   "metadata": {},
   "outputs": [],
   "source": [
    "date_list = []\n",
    "date_test = list(x.date() for x in returns.index)\n",
    "start = dt.datetime.strptime(date___, '%d/%m/%Y').date()\n",
    "day = 30\n",
    "\n",
    "while start <= end:\n",
    "    \n",
    "    if start in date_test:\n",
    "        date_list.append(start)\n",
    "    start = start + dt.timedelta(days = 1)\n",
    "date_list"
   ]
  },
  {
   "cell_type": "code",
   "execution_count": null,
   "id": "3e9ad64b",
   "metadata": {},
   "outputs": [],
   "source": [
    "def smooth(y, box_pts):\n",
    "    \n",
    "    box = np.ones(box_pts)/box_pts\n",
    "    y_smooth = np.convolve(y, box, mode = 'valid')\n",
    "    return y_smooth\n",
    "       \n",
    "#plt.title('Performance histórica')\n",
    "#plt.xlabel('Dias');"
   ]
  },
  {
   "cell_type": "code",
   "execution_count": null,
   "id": "e22f98b2",
   "metadata": {},
   "outputs": [],
   "source": [
    "ibov = '^BVSP'\n",
    "day = 365 * 3\n",
    "ibov_start = dt.date.today() - dt.timedelta(days = day)\n",
    "df_ibov = yf.download(ibov, start=ibov_start, end=dt.date.today())['Adj Close']\n",
    "df_ibov"
   ]
  },
  {
   "cell_type": "code",
   "execution_count": null,
   "id": "da607c45",
   "metadata": {},
   "outputs": [],
   "source": [
    "sharpe_rent = returns['sharpe otm'] / returns['sharpe otm'][0] -1\n",
    "cla_rent = returns['cla otm'] / returns['cla otm'][0] -1\n",
    "max_sqrt_rent = returns['max_sqrt otm'] / returns['max_sqrt otm'][0] -1\n",
    "hrp_rent = returns['hrp otm'] / returns['hrp otm'][0] -1\n",
    "ibov_rent = df_ibov / df_ibov[0] -1"
   ]
  },
  {
   "cell_type": "code",
   "execution_count": null,
   "id": "e5a9b7af",
   "metadata": {},
   "outputs": [],
   "source": [
    "# add dados np array \n",
    "fdr = smooth(ibov_rent,10)\n",
    "fdr = np.append(fdr,ibov_rent[-1])\n",
    "fdr"
   ]
  },
  {
   "cell_type": "code",
   "execution_count": null,
   "id": "b3c8cb5a",
   "metadata": {},
   "outputs": [],
   "source": [
    "figura = px.line(title = 'Historico')\n",
    "figura.add_scatter(y = smooth(sharpe_rent,10), name = 'Índice Sharpe')\n",
    "figura.add_scatter(y = smooth(cla_rent,10), name = 'Mínima Volatilidade')\n",
    "figura.add_scatter(y = smooth(max_sqrt_rent,10), name = 'Máxima utilidade')\n",
    "figura.add_scatter(y = smooth(hrp_rent,10), name = 'HRP')\n",
    "figura.add_scatter(y = smooth(ibov_rent,10), name = 'IBOV')"
   ]
  },
  {
   "cell_type": "code",
   "execution_count": null,
   "id": "d1923f89",
   "metadata": {},
   "outputs": [],
   "source": [
    "plt.plot( smooth(sharpe_rent,10) );\n",
    "plt.plot( smooth(cla_rent,10) );\n",
    "plt.plot( smooth(max_sqrt_rent,10) );\n",
    "plt.plot( smooth(hrp_rent,10) );\n",
    "plt.plot( smooth(ibov_rent,10) );\n",
    "plt.legend(['Índice Sharpe', 'CLA', 'Maximo quadrado', 'HRP', 'IBOV']);\n",
    "plt.xticks(rotation = 90)\n",
    "plt.tight_layout();"
   ]
  },
  {
   "cell_type": "code",
   "execution_count": null,
   "id": "863007c1",
   "metadata": {},
   "outputs": [],
   "source": []
  },
  {
   "cell_type": "code",
   "execution_count": null,
   "id": "dafa500f",
   "metadata": {},
   "outputs": [],
   "source": []
  },
  {
   "cell_type": "code",
   "execution_count": null,
   "id": "df0e0571",
   "metadata": {},
   "outputs": [],
   "source": [
    "#plt.plot(returns.iloc[:,9:]);\n",
    "returns.iloc[:,9:].plot(kind = 'line')\n",
    "plt.legend(['Índice Sharpe', 'CLA', 'Maximo quadrado', 'HRP']);\n",
    "plt.xticks(rotation = 90)\n",
    "plt.tight_layout();"
   ]
  },
  {
   "cell_type": "code",
   "execution_count": null,
   "id": "238a333b",
   "metadata": {},
   "outputs": [],
   "source": [
    "rets = expected_returns.returns_from_prices(data)"
   ]
  },
  {
   "cell_type": "code",
   "execution_count": null,
   "id": "7568a644",
   "metadata": {},
   "outputs": [],
   "source": [
    "df_ = pd.DataFrame((returns.iloc[-1,-4:] /1000 -1) *100)\n",
    "df_.columns = ['Rentabilidade']\n",
    "df_['Rentabilidade'] = list(map(lambda x: f'{round(x,2)}%',df_.values.reshape(-1)))\n",
    "df_"
   ]
  },
  {
   "cell_type": "code",
   "execution_count": null,
   "id": "b557cf72",
   "metadata": {},
   "outputs": [],
   "source": [
    "# teste função HRP\n",
    "from pypfopt.hierarchical_portfolio import HRPOpt\n",
    "\n",
    "ef5 = HRPOpt(rets)\n",
    "ef5.optimize()\n",
    "ef5.portfolio_performance(verbose = True)"
   ]
  },
  {
   "cell_type": "code",
   "execution_count": null,
   "id": "d6531097",
   "metadata": {},
   "outputs": [],
   "source": [
    "# teste \n",
    "ef5.clean_weights(), w_hrp"
   ]
  },
  {
   "cell_type": "code",
   "execution_count": null,
   "id": "caf068ef",
   "metadata": {},
   "outputs": [],
   "source": [
    "day = 365 * 3\n",
    "str(dt.date.today() - dt.timedelta(days = day))"
   ]
  },
  {
   "cell_type": "code",
   "execution_count": null,
   "id": "befc4c4d",
   "metadata": {},
   "outputs": [],
   "source": [
    "returns.iloc[-1]"
   ]
  },
  {
   "cell_type": "code",
   "execution_count": null,
   "id": "ab42ab1a",
   "metadata": {},
   "outputs": [],
   "source": [
    "returns_data = np.log1p(returns[['sharpe otm','cla otm','max_sqrt otm','hrp otm']].pct_change())\n",
    "returns_data.fillna(0, inplace=True)"
   ]
  },
  {
   "cell_type": "code",
   "execution_count": null,
   "id": "6e62d78b",
   "metadata": {},
   "outputs": [],
   "source": [
    "returns_data"
   ]
  },
  {
   "cell_type": "code",
   "execution_count": null,
   "id": "eeaa2536",
   "metadata": {},
   "outputs": [],
   "source": [
    "mean_returns = returns_data.mean()\n",
    "var_returns = returns_data.var()\n",
    "drift = mean_returns - (0.5 * var_returns)\n",
    "drift"
   ]
  },
  {
   "cell_type": "code",
   "execution_count": null,
   "id": "b10340bd",
   "metadata": {},
   "outputs": [],
   "source": [
    "years = 3\n",
    "days = 252 * years\n",
    "simulation = 1000"
   ]
  },
  {
   "cell_type": "code",
   "execution_count": null,
   "id": "7622f5ad",
   "metadata": {},
   "outputs": [],
   "source": [
    "std_returns = returns_data.std()\n",
    "std_returns"
   ]
  },
  {
   "cell_type": "code",
   "execution_count": null,
   "id": "8d5067c6",
   "metadata": {},
   "outputs": [],
   "source": [
    "Z = stats.norm.ppf(np.random.rand(days, simulation))\n",
    "daily_sharpe = np.exp(drift[0] + std_returns[0] * Z)\n",
    "daily_risk = np.exp(drift[1] + std_returns[1] * Z)\n",
    "daily_returns = np.exp(drift[2] + std_returns[2] * Z)\n",
    "daily_hrp = np.exp(drift[3] + std_returns[3] * Z)"
   ]
  },
  {
   "cell_type": "code",
   "execution_count": null,
   "id": "b45d32c4",
   "metadata": {},
   "outputs": [],
   "source": [
    "returns.iloc[-1]"
   ]
  },
  {
   "cell_type": "code",
   "execution_count": null,
   "id": "6a9fe082",
   "metadata": {},
   "outputs": [],
   "source": [
    "pred_sharpe = np.zeros_like(daily_sharpe)\n",
    "pred_sharpe[0] = returns.iloc[-1,9]\n",
    "\n",
    "pred_risk = np.zeros_like(daily_risk)\n",
    "pred_risk[0] = returns.iloc[-1,10]\n",
    "\n",
    "pred_returns = np.zeros_like(daily_returns)\n",
    "pred_returns[0] = returns.iloc[-1,11]\n",
    "\n",
    "pred_hrp = np.zeros_like(daily_hrp)\n",
    "pred_hrp[0] = returns.iloc[-1,12]"
   ]
  },
  {
   "cell_type": "code",
   "execution_count": null,
   "id": "c5adaa7c",
   "metadata": {},
   "outputs": [],
   "source": [
    "pred_hrp.shape"
   ]
  },
  {
   "cell_type": "code",
   "execution_count": null,
   "id": "232a4356",
   "metadata": {},
   "outputs": [],
   "source": [
    "for day in range(1, days):\n",
    "  #print(dia)\n",
    "    pred_sharpe[day] = pred_sharpe[day - 1] * daily_sharpe[day]\n",
    "    pred_risk[day] = pred_risk[day - 1] * daily_risk[day]\n",
    "    pred_returns[day] = pred_returns[day - 1] * daily_returns[day]\n",
    "    pred_hrp[day] = pred_hrp[day - 1] * daily_hrp[day]\n",
    "    "
   ]
  },
  {
   "cell_type": "code",
   "execution_count": null,
   "id": "467e8ae4",
   "metadata": {},
   "outputs": [],
   "source": [
    "# melhores projeçoes\n",
    "max_sharpe = np.argmax(pred_sharpe[-1,:].flatten())\n",
    "max_risk = np.argmax(pred_risk[-1,:].flatten())\n",
    "max_retrun = np.argmax(pred_returns[-1,:].flatten())\n",
    "max_hrp = np.argmax(pred_hrp[-1,:].flatten())\n",
    "\n",
    "# piores projeções\n",
    "min_sharpe = np.argmin(pred_sharpe[-1,:].flatten())\n",
    "min_risk = np.argmin(pred_risk[-1,:].flatten())\n",
    "min_retrun = np.argmin(pred_returns[-1,:].flatten())\n",
    "min_hrp = np.argmin(pred_hrp[-1,:].flatten())"
   ]
  },
  {
   "cell_type": "code",
   "execution_count": null,
   "id": "3e619ef7",
   "metadata": {},
   "outputs": [],
   "source": [
    "fig = px.line(title = 'Simulações Índice sharpe')\n",
    "#for i in range(len(pred_sharpe.T)):\n",
    "fig.add_scatter(y = pred_sharpe.T[max_sharpe], name = 'Melhor projeção');\n",
    "fig.add_scatter(y = pred_sharpe.T[min_sharpe], name = 'Pior projeção');\n",
    "\n",
    "fig.show()"
   ]
  },
  {
   "cell_type": "code",
   "execution_count": null,
   "id": "81abdc11",
   "metadata": {},
   "outputs": [],
   "source": [
    "fig = px.line(title = 'Simulações CLA')\n",
    "#for i in range(len(pred_sharpe.T)):\n",
    "fig.add_scatter(y = pred_risk.T[max_risk], name = 'Melhor projeção');\n",
    "fig.add_scatter(y = pred_risk.T[min_risk], name = 'Pior projeção');\n",
    "\n",
    "fig.show()"
   ]
  },
  {
   "cell_type": "code",
   "execution_count": null,
   "id": "5687a61e",
   "metadata": {},
   "outputs": [],
   "source": [
    "fig = px.line(title = 'Simulações Máximo quadrado')\n",
    "#for i in range(len(pred_sharpe.T)):\n",
    "fig.add_scatter(y = pred_returns.T[max_retrun], name = 'Melhor projeção');\n",
    "fig.add_scatter(y = pred_returns.T[min_retrun], name = 'Pior projeção');\n",
    "\n",
    "fig.show()"
   ]
  },
  {
   "cell_type": "code",
   "execution_count": null,
   "id": "43ef56b1",
   "metadata": {},
   "outputs": [],
   "source": [
    "fig = px.line(title = 'Simulações HRP')\n",
    "#for i in range(len(pred_sharpe.T)):\n",
    "fig.add_scatter(y = pred_hrp.T[max_hrp], name = 'Melhor projeção');\n",
    "fig.add_scatter(y = pred_hrp.T[min_hrp], name = 'Pior projeção');\n",
    "\n",
    "fig.show()"
   ]
  },
  {
   "cell_type": "code",
   "execution_count": 60,
   "id": "e3589ea7",
   "metadata": {},
   "outputs": [],
   "source": [
    "#!pip freeze > requirements.txt"
   ]
  },
  {
   "cell_type": "code",
   "execution_count": null,
   "id": "6a85b262",
   "metadata": {},
   "outputs": [],
   "source": []
  },
  {
   "cell_type": "code",
   "execution_count": null,
   "id": "fee4a213",
   "metadata": {},
   "outputs": [],
   "source": []
  },
  {
   "cell_type": "code",
   "execution_count": null,
   "id": "63ea142a",
   "metadata": {},
   "outputs": [],
   "source": []
  },
  {
   "cell_type": "code",
   "execution_count": null,
   "id": "d719545f",
   "metadata": {},
   "outputs": [],
   "source": []
  }
 ],
 "metadata": {
  "kernelspec": {
   "display_name": "pa_env",
   "language": "python",
   "name": "pa_env"
  },
  "language_info": {
   "codemirror_mode": {
    "name": "ipython",
    "version": 3
   },
   "file_extension": ".py",
   "mimetype": "text/x-python",
   "name": "python",
   "nbconvert_exporter": "python",
   "pygments_lexer": "ipython3",
   "version": "3.9.12"
  },
  "varInspector": {
   "cols": {
    "lenName": 16,
    "lenType": 16,
    "lenVar": 40
   },
   "kernels_config": {
    "python": {
     "delete_cmd_postfix": "",
     "delete_cmd_prefix": "del ",
     "library": "var_list.py",
     "varRefreshCmd": "print(var_dic_list())"
    },
    "r": {
     "delete_cmd_postfix": ") ",
     "delete_cmd_prefix": "rm(",
     "library": "var_list.r",
     "varRefreshCmd": "cat(var_dic_list()) "
    }
   },
   "types_to_exclude": [
    "module",
    "function",
    "builtin_function_or_method",
    "instance",
    "_Feature"
   ],
   "window_display": false
  }
 },
 "nbformat": 4,
 "nbformat_minor": 5
}
